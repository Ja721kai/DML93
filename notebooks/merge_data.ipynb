{
 "cells": [
  {
   "cell_type": "code",
   "execution_count": 2,
   "metadata": {},
   "outputs": [],
   "source": [
    "import pandas as pd"
   ]
  },
  {
   "cell_type": "code",
   "execution_count": 3,
   "metadata": {},
   "outputs": [],
   "source": [
    "df_rainforest = pd.read_csv('../RainforestAPI/rainforest_tvdeals_20220705.csv')\n",
    "df_target = pd.read_csv('./target_tvdeals_20220703.csv')"
   ]
  },
  {
   "cell_type": "code",
   "execution_count": 4,
   "metadata": {},
   "outputs": [],
   "source": [
    "target_specification = {\n",
    "    \"data_source\":[],\n",
    "    \"title\":[],\n",
    "    \"brand\":[],\n",
    "    \"deal_price\":[],\n",
    "    \"list_price\":[],\n",
    "    \"multi_item_t_f\":[],\n",
    "    \"avg_rating\":[],\n",
    "    \"amount_rating\":[],\n",
    "    \"deal_start\":[],\n",
    "    \"deal_end\":[],\n",
    "    \"description\":[]\n",
    "}"
   ]
  },
  {
   "cell_type": "code",
   "execution_count": 5,
   "metadata": {},
   "outputs": [],
   "source": [
    "for index, row in df_rainforest.iterrows():\n",
    "    target_specification[\"data_source\"] += [\"Rainforest API\"]\n",
    "    target_specification[\"title\"] += [row[\"title\"]]\n",
    "    target_specification[\"brand\"] += [row[\"merchant_name\"]]\n",
    "    try:\n",
    "        target_specification[\"deal_price\"] += [eval(row[\"deal_price\"])[\"raw\"]]\n",
    "    except Exception:\n",
    "        target_specification[\"deal_price\"] += [None]\n",
    "    try:\n",
    "        target_specification[\"list_price\"] += [eval(row[\"list_price\"])[\"raw\"]]\n",
    "    except Exception:\n",
    "        target_specification[\"list_price\"] += [None]\n",
    "    target_specification[\"multi_item_t_f\"] += [str(row[\"type\"]==\"multi_item\")]\n",
    "    target_specification[\"avg_rating\"] += [row[\"rating\"]]\n",
    "    target_specification[\"amount_rating\"] += [row[\"ratings_total\"]]\n",
    "    target_specification[\"deal_start\"] += [row[\"starts_at\"]]\n",
    "    target_specification[\"deal_end\"] += [row[\"ends_at\"]]\n",
    "    target_specification[\"description\"] += [row[\"description\"]]"
   ]
  },
  {
   "cell_type": "code",
   "execution_count": 6,
   "metadata": {},
   "outputs": [],
   "source": [
    "for index, row in df_target.iterrows():\n",
    "    target_specification[\"data_source\"] += [\"Target Deals Website\"]\n",
    "    target_specification[\"title\"] += [row[\"name\"]]\n",
    "    target_specification[\"brand\"] += [row[\"brand\"]]\n",
    "    target_specification[\"deal_price\"] += [row[\"deal_price\"]]\n",
    "    target_specification[\"list_price\"] += [row[\"regular_price\"]]\n",
    "    target_specification[\"multi_item_t_f\"] += [False]\n",
    "    target_specification[\"avg_rating\"] += [row[\"avg_overall_rating\"]]\n",
    "    target_specification[\"amount_rating\"] += [row[\"amount_of_ratings\"]]\n",
    "    target_specification[\"deal_start\"] += [None]\n",
    "    target_specification[\"deal_end\"] += [None]\n",
    "    target_specification[\"description\"] += [row[\"product_highlights\"]]"
   ]
  },
  {
   "cell_type": "code",
   "execution_count": 78,
   "metadata": {},
   "outputs": [],
   "source": [
    "df = pd.DataFrame.from_dict(target_specification)\n"
   ]
  },
  {
   "cell_type": "code",
   "execution_count": 79,
   "outputs": [],
   "source": [
    "# add column 'type' based on product name inputs\n",
    "# types include: TV, TV Accessory, Mixed\n",
    "\n",
    "def get_product_type(title):\n",
    "    title = title.lower()\n",
    "    tv_names = [\"fire tv\", \"smart tv\", \"google tv\", \"nanocell tv\", \"tvs\", \"roku tv\", \"series\", \"uhd tv\",\n",
    "                \"led tv\", \"hdr tv\", \"lcd tv\", \"hdtv\", \"outdoor tv\"]\n",
    "    accessory_names = [\"stick\", \"player\", \"player\", \"mount\", \"movie screen\", \"projector screen\",\n",
    "                       \"cleaner kit\", \"tv stand\", \"tv cube\"]\n",
    "    mixed_names = [\"products\", \"accessories\", \"% discount from\", \"deals from\", \"supplies\", \"kit\", \"electronics\"]\n",
    "    if any([name in title for name in tv_names]) and not any([accessory in title for accessory in [\"stick\", \"tv cube\"]]):\n",
    "        return \"TV\"\n",
    "    elif any([name in title for name in accessory_names]):\n",
    "        return \"Accessory\"\n",
    "    elif any([name in title for name in mixed_names]):\n",
    "        return \"Mixed\"\n",
    "    else:\n",
    "        return None\n",
    "\n",
    "col_index = df.columns.get_loc(\"title\") + 1\n",
    "type_column = df[\"title\"].apply(get_product_type)\n",
    "df.insert(col_index, \"type\", type_column)"
   ],
   "metadata": {
    "collapsed": false,
    "pycharm": {
     "name": "#%%\n"
    }
   }
  },
  {
   "cell_type": "code",
   "execution_count": 82,
   "outputs": [],
   "source": [
    "df.to_csv('merged_dataset2.csv', index=False)"
   ],
   "metadata": {
    "collapsed": false,
    "pycharm": {
     "name": "#%%\n"
    }
   }
  },
  {
   "cell_type": "code",
   "execution_count": null,
   "outputs": [],
   "source": [],
   "metadata": {
    "collapsed": false,
    "pycharm": {
     "name": "#%%\n"
    }
   }
  }
 ],
 "metadata": {
  "kernelspec": {
   "name": "python3",
   "language": "python",
   "display_name": "Python 3"
  },
  "language_info": {
   "codemirror_mode": {
    "name": "ipython",
    "version": 3
   },
   "file_extension": ".py",
   "mimetype": "text/x-python",
   "name": "python",
   "nbconvert_exporter": "python",
   "pygments_lexer": "ipython3",
   "version": "3.8.0"
  }
 },
 "nbformat": 4,
 "nbformat_minor": 1
}