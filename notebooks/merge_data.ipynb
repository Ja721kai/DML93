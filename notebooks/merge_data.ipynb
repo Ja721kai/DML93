{
 "cells": [
  {
   "cell_type": "code",
   "execution_count": 1,
   "metadata": {},
   "outputs": [],
   "source": [
    "import pandas as pd"
   ]
  },
  {
   "cell_type": "code",
   "execution_count": 2,
   "metadata": {},
   "outputs": [],
   "source": [
    "df_rainforest = pd.read_csv('../RainforestAPI/rainforest_tvdeals_20220705.csv')\n",
    "df_target = pd.read_csv('./target_tvdeals_20220703.csv')"
   ]
  },
  {
   "cell_type": "code",
   "execution_count": 15,
   "metadata": {},
   "outputs": [],
   "source": [
    "target_specification = {\n",
    "    \"data_source\":[],\n",
    "    \"title\":[],\n",
    "    \"brand\":[],\n",
    "    \"deal_price\":[],\n",
    "    \"list_price\":[],\n",
    "    \"multi_item_t_f\":[],\n",
    "    \"avg_rating\":[],\n",
    "    \"amount_rating\":[],\n",
    "    \"deal_start\":[],\n",
    "    \"deal_end\":[],\n",
    "    \"description\":[]\n",
    "}"
   ]
  },
  {
   "cell_type": "code",
   "execution_count": 19,
   "metadata": {},
   "outputs": [
    {
     "ename": "TypeError",
     "evalue": "eval() arg 1 must be a string, bytes or code object",
     "output_type": "error",
     "traceback": [
      "\u001b[1;31m---------------------------------------------------------------------------\u001b[0m",
      "\u001b[1;31mTypeError\u001b[0m                                 Traceback (most recent call last)",
      "\u001b[1;32mC:\\Users\\JANKAI~1\\AppData\\Local\\Temp/ipykernel_20360/4275369939.py\u001b[0m in \u001b[0;36m<module>\u001b[1;34m\u001b[0m\n\u001b[0;32m      3\u001b[0m     \u001b[0mtarget_specification\u001b[0m\u001b[1;33m[\u001b[0m\u001b[1;34m\"title\"\u001b[0m\u001b[1;33m]\u001b[0m \u001b[1;33m+=\u001b[0m \u001b[1;33m[\u001b[0m\u001b[0mrow\u001b[0m\u001b[1;33m[\u001b[0m\u001b[1;34m\"title\"\u001b[0m\u001b[1;33m]\u001b[0m\u001b[1;33m]\u001b[0m\u001b[1;33m\u001b[0m\u001b[1;33m\u001b[0m\u001b[0m\n\u001b[0;32m      4\u001b[0m     \u001b[0mtarget_specification\u001b[0m\u001b[1;33m[\u001b[0m\u001b[1;34m\"brand\"\u001b[0m\u001b[1;33m]\u001b[0m \u001b[1;33m+=\u001b[0m \u001b[1;33m[\u001b[0m\u001b[0mrow\u001b[0m\u001b[1;33m[\u001b[0m\u001b[1;34m\"merchant_name\"\u001b[0m\u001b[1;33m]\u001b[0m\u001b[1;33m]\u001b[0m\u001b[1;33m\u001b[0m\u001b[1;33m\u001b[0m\u001b[0m\n\u001b[1;32m----> 5\u001b[1;33m     \u001b[0mtarget_specification\u001b[0m\u001b[1;33m[\u001b[0m\u001b[1;34m\"deal_price\"\u001b[0m\u001b[1;33m]\u001b[0m \u001b[1;33m+=\u001b[0m \u001b[1;33m[\u001b[0m\u001b[0meval\u001b[0m\u001b[1;33m(\u001b[0m\u001b[0mrow\u001b[0m\u001b[1;33m[\u001b[0m\u001b[1;34m\"deal_price\"\u001b[0m\u001b[1;33m]\u001b[0m\u001b[1;33m)\u001b[0m\u001b[1;33m[\u001b[0m\u001b[1;34m\"raw\"\u001b[0m\u001b[1;33m]\u001b[0m\u001b[1;33m]\u001b[0m\u001b[1;33m\u001b[0m\u001b[1;33m\u001b[0m\u001b[0m\n\u001b[0m\u001b[0;32m      6\u001b[0m     \u001b[0mtarget_specification\u001b[0m\u001b[1;33m[\u001b[0m\u001b[1;34m\"list_price\"\u001b[0m\u001b[1;33m]\u001b[0m \u001b[1;33m+=\u001b[0m \u001b[1;33m[\u001b[0m\u001b[0meval\u001b[0m\u001b[1;33m(\u001b[0m\u001b[0mrow\u001b[0m\u001b[1;33m[\u001b[0m\u001b[1;34m\"list_price\"\u001b[0m\u001b[1;33m]\u001b[0m\u001b[1;33m)\u001b[0m\u001b[1;33m[\u001b[0m\u001b[1;34m\"raw\"\u001b[0m\u001b[1;33m]\u001b[0m\u001b[1;33m]\u001b[0m\u001b[1;33m\u001b[0m\u001b[1;33m\u001b[0m\u001b[0m\n\u001b[0;32m      7\u001b[0m     \u001b[0mtarget_specification\u001b[0m\u001b[1;33m[\u001b[0m\u001b[1;34m\"multi_item_t_f\"\u001b[0m\u001b[1;33m]\u001b[0m \u001b[1;33m+=\u001b[0m \u001b[1;33m[\u001b[0m\u001b[0mstr\u001b[0m\u001b[1;33m(\u001b[0m\u001b[0mrow\u001b[0m\u001b[1;33m[\u001b[0m\u001b[1;34m\"type\"\u001b[0m\u001b[1;33m]\u001b[0m\u001b[1;33m==\u001b[0m\u001b[1;34m\"multi_item\"\u001b[0m\u001b[1;33m)\u001b[0m\u001b[1;33m]\u001b[0m\u001b[1;33m\u001b[0m\u001b[1;33m\u001b[0m\u001b[0m\n",
      "\u001b[1;31mTypeError\u001b[0m: eval() arg 1 must be a string, bytes or code object"
     ]
    }
   ],
   "source": [
    "for index, row in df_rainforest.iterrows():\n",
    "    target_specification[\"data_source\"] += [\"Rainforest API\"]\n",
    "    target_specification[\"title\"] += [row[\"title\"]]\n",
    "    target_specification[\"brand\"] += [row[\"merchant_name\"]]\n",
    "    try:\n",
    "        target_specification[\"deal_price\"] += [eval(row[\"deal_price\"])[\"raw\"]]\n",
    "    except Exception:\n",
    "        target_specification[\"deal_price\"] += [None]\n",
    "    target_specification[\"list_price\"] += [eval(row[\"list_price\"])[\"raw\"]]\n",
    "    target_specification[\"multi_item_t_f\"] += [str(row[\"type\"]==\"multi_item\")]\n",
    "    target_specification[\"avg_rating\"] += [row[\"rating\"]]\n",
    "    target_specification[\"amount_rating\"] += [row[\"ratings_total\"]]\n",
    "    target_specification[\"deal_start\"] += [row[\"starts_at\"]]\n",
    "    target_specification[\"deal_end\"] += [row[\"ends_at\"]]\n",
    "    target_specification[\"description\"] += [row[\"description\"]]"
   ]
  },
  {
   "cell_type": "code",
   "execution_count": 17,
   "metadata": {},
   "outputs": [],
   "source": [
    "for index, row in df_target.iterrows():\n",
    "    target_specification[\"data_source\"] += [\"Target Deals Website\"]\n",
    "    target_specification[\"title\"] += [row[\"name\"]]\n",
    "    target_specification[\"brand\"] += [row[\"brand\"]]\n",
    "    target_specification[\"deal_price\"] += [row[\"deal_price\"]]\n",
    "    target_specification[\"list_price\"] += [row[\"regular_price\"]]\n",
    "    target_specification[\"multi_item_t_f\"] += [False]\n",
    "    target_specification[\"avg_rating\"] += [row[\"avg_overall_rating\"]]\n",
    "    target_specification[\"amount_rating\"] += [row[\"amount_of_ratings\"]]\n",
    "    target_specification[\"deal_start\"] += [None]\n",
    "    target_specification[\"deal_end\"] += [None]\n",
    "    target_specification[\"description\"] += [row[\"product_highlights\"]]"
   ]
  },
  {
   "cell_type": "code",
   "execution_count": null,
   "metadata": {},
   "outputs": [],
   "source": []
  }
 ],
 "metadata": {
  "kernelspec": {
   "display_name": "Python 3 (ipykernel)",
   "language": "python",
   "name": "python3"
  },
  "language_info": {
   "codemirror_mode": {
    "name": "ipython",
    "version": 3
   },
   "file_extension": ".py",
   "mimetype": "text/x-python",
   "name": "python",
   "nbconvert_exporter": "python",
   "pygments_lexer": "ipython3",
   "version": "3.8.0"
  }
 },
 "nbformat": 4,
 "nbformat_minor": 1
}
