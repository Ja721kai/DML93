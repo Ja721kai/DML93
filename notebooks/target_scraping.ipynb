{
 "cells": [
  {
   "cell_type": "code",
   "execution_count": 43,
   "metadata": {
    "collapsed": true
   },
   "outputs": [],
   "source": [
    "import pandas as pd\n",
    "import bs4 as bs\n",
    "from selenium import webdriver\n",
    "from selenium.webdriver.common.action_chains import ActionChains\n",
    "import re\n",
    "import time\n",
    "\n",
    "# Globale Konstanten\n",
    "product_item_class = \"styles__StyledCardWrapper-sc-z8946b-0 lkvTCP h-padding-a-tight\"\n",
    "button_next_class = \"BaseButton-sc-3v3oog-0 ButtonWithArrow__StyledButton-sc-nijk55-0 xuSzc jkTVyV Pagination__NextButtonWithArrow-sc-1nywsxy-1 kayfPw\"\n",
    "url = \"https://www.target.com/c/tvs-home-theater-electronics/all-deals/-/N-5xtdjZakkos?Nao\""
   ]
  },
  {
   "cell_type": "code",
   "execution_count": 64,
   "outputs": [],
   "source": [
    "# Aktuelle URL f+r Electronics/TV & Home Theater/All Deals: TVs (03.07.2022)\n",
    "browser = webdriver.Chrome()  # https://chromedriver.chromium.org/downloads\n",
    "browser.get(url)\n",
    "browser.maximize_window()"
   ],
   "metadata": {
    "collapsed": false,
    "pycharm": {
     "name": "#%%\n"
    }
   }
  },
  {
   "cell_type": "code",
   "execution_count": 65,
   "outputs": [],
   "source": [
    "results = {\n",
    "    \"name\": [],\n",
    "    \"brand\": [],\n",
    "    \"deal_price\": [],\n",
    "    \"regular_price\": [],\n",
    "    \"product_highlights\": [],\n",
    "    \"avg_overall_rating\": [],\n",
    "    \"amount_of_ratings\": []\n",
    "}"
   ],
   "metadata": {
    "collapsed": false,
    "pycharm": {
     "name": "#%%\n"
    }
   }
  },
  {
   "cell_type": "code",
   "execution_count": 66,
   "outputs": [],
   "source": [
    "def is_sales_deal(product_div):\n",
    "    span_text_class_name = \"h-display-inline-block h-text-red h-text-sm\"\n",
    "    try:\n",
    "        deal_text_span = product_div.find_all(\"span\", {\"class\":span_text_class_name})[0]\n",
    "        return \"Sale\" in deal_text_span.get_text()\n",
    "    except Exception:\n",
    "        return False\n",
    "\n",
    "def get_bullets(product_div):\n",
    "    shown_bullets = [bullet.get_text() for bullet in product_div.find_all(\"li\")]\n",
    "    return shown_bullets\n",
    "\n",
    "def get_rating(product_div):\n",
    "    text = product_div.get_text()\n",
    "    try:\n",
    "        overall_rating = re.findall(r'Overall rating(\\d\\.*\\d*) out of 5 stars with (\\d+) ratings', text)[0]\n",
    "    except IndexError:\n",
    "        return None, None\n",
    "    return overall_rating\n",
    "\n",
    "def get_name(product_div):\n",
    "    title_list = [title_tag[\"aria-label\"] for title_tag in product_div.find_all(\"a\") if title_tag.get(\"aria-label\")]\n",
    "    return title_list[0]\n",
    "\n",
    "def get_brand(product_div):\n",
    "    brand_class_name =\"ProductCardBrandAndRibbonMessage__BrandAndRibbonWrapper-sc-zjf8tq-0 coUgrE\"\n",
    "    brand = product_div.find_all(\"div\", {\"class\": brand_class_name})[0].get_text()\n",
    "    return brand\n",
    "\n",
    "def get_deal_price(product_div):\n",
    "    deal_price_class = \"h-text-red\"\n",
    "    return product_div.find_all(\"div\", {\"class\": deal_price_class})[0].get_text()\n",
    "\n",
    "def get_reg_price(product_div):\n",
    "    reg_price_class = \"h-text-grayDark h-text-sm\"\n",
    "    return product_div.find_all(\"div\", {\"class\": reg_price_class})[0].get_text().split(\"reg \")[1]\n",
    "\n",
    "def scrape_products(product_div_list, results):\n",
    "    for product_div in product_div_list:\n",
    "        # Deal könnte auch mit Target Gutscheinkarte sein, kein Direktrabatt\n",
    "        if is_sales_deal(product_div):\n",
    "            results[\"name\"] += [get_name(product_div)]\n",
    "            results[\"brand\"] += [get_brand(product_div)]\n",
    "            results[\"deal_price\"] += [get_deal_price(product_div)]\n",
    "            results[\"regular_price\"] += [get_reg_price(product_div)]\n",
    "            results[\"product_highlights\"] += [get_bullets(product_div)]\n",
    "            avg_overall_rating, amount_of_ratings = get_rating(product_div)\n",
    "            results[\"avg_overall_rating\"] += [avg_overall_rating]\n",
    "            results[\"amount_of_ratings\"] += [amount_of_ratings]"
   ],
   "metadata": {
    "collapsed": false,
    "pycharm": {
     "name": "#%%\n"
    }
   }
  },
  {
   "cell_type": "code",
   "execution_count": 7,
   "outputs": [
    {
     "data": {
      "text/plain": "1080"
     },
     "execution_count": 7,
     "metadata": {},
     "output_type": "execute_result"
    }
   ],
   "source": [],
   "metadata": {
    "collapsed": false,
    "pycharm": {
     "name": "#%%\n"
    }
   }
  },
  {
   "cell_type": "code",
   "execution_count": 67,
   "outputs": [
    {
     "name": "stdout",
     "output_type": "stream",
     "text": [
      "Total height: 10498\n",
      "Screen height: 1080\n",
      "1080\n",
      "2160\n",
      "3240\n",
      "4320\n",
      "5400\n",
      "6480\n",
      "7560\n",
      "8640\n",
      "9720\n",
      "Total height: 10178\n",
      "Screen height: 1080\n",
      "1080\n",
      "2160\n",
      "3240\n",
      "4320\n",
      "5400\n",
      "6480\n",
      "7560\n",
      "8640\n",
      "9720\n",
      "Total height: 10194\n",
      "Screen height: 1080\n",
      "1080\n",
      "2160\n",
      "3240\n",
      "4320\n",
      "5400\n",
      "6480\n",
      "7560\n",
      "8640\n",
      "9720\n",
      "Total height: 5878\n",
      "Screen height: 1080\n",
      "1080\n",
      "2160\n",
      "3240\n",
      "4320\n",
      "5400\n"
     ]
    }
   ],
   "source": [
    "while True:\n",
    "    screen_height = browser.execute_script(\"return window.screen.availHeight\")\n",
    "    current = screen_height + browser.execute_script(\"return document.documentElement.scrollTop\")\n",
    "    bottom = browser.execute_script(\"return document.body.scrollHeight\")\n",
    "    print(\"Total height: \" + str(bottom))\n",
    "    print(\"Screen height: \" + str(screen_height))\n",
    "    while current < bottom:\n",
    "        new_height = current\n",
    "        print(new_height)\n",
    "        if new_height > bottom:\n",
    "            new_height = bottom\n",
    "        browser.execute_script(\"window.scrollTo(0, \" + str(new_height) + \");\")\n",
    "        current = screen_height + browser.execute_script(\"return document.documentElement.scrollTop\")\n",
    "        time.sleep(2) # warte bis Elemente geladen haben bevor weiter gescrollt wird\n",
    "\n",
    "    # Hole Produktkacheln:\n",
    "    html = browser.page_source\n",
    "    soup = bs.BeautifulSoup(html, 'lxml')\n",
    "    product_div_list = soup.find_all(\"div\", {\"class\": product_item_class})\n",
    "\n",
    "    # Scraping der Daten\n",
    "    scrape_products(product_div_list, results)\n",
    "\n",
    "    # Prüfe, ob es weitere Seiten gibt\n",
    "    button_next = soup.find_all(\"button\", {\"class\": button_next_class})[0]\n",
    "    if button_next.get(\"disabled\") != '':\n",
    "        buttons = browser.find_elements_by_tag_name(\"button\")\n",
    "        button = [button for button in buttons if button.get_attribute(\"class\") == button_next_class][0]\n",
    "        # Button in Viewport bringen:\n",
    "        browser.execute_script(\"arguments[0].scrollIntoView();\", button)\n",
    "        goal_height = browser.execute_script(\"return document.documentElement.scrollTop\") - screen_height/2\n",
    "        browser.execute_script(\"window.scrollTo(0, \" + str(goal_height) + \");\")\n",
    "        # Klicken, warten, hochscrollen, warten\n",
    "        button.click()\n",
    "        time.sleep(2)\n",
    "        browser.execute_script(\"window.scrollTo(0,0);\")\n",
    "        time.sleep(0.5)\n",
    "    else:\n",
    "        break"
   ],
   "metadata": {
    "collapsed": false,
    "pycharm": {
     "name": "#%%\n"
    }
   }
  },
  {
   "cell_type": "code",
   "execution_count": 68,
   "outputs": [
    {
     "data": {
      "text/plain": "                                                 name  \\\n0   TCL 50\" Class 4-Series 4K UHD HDR Smart Roku T...   \n1   VIZIO D-Series 40\" Class 1080p Full-Array LED ...   \n2   Hisense 55\" Class- A6G Series 4K UHD Android S...   \n3   VIZIO V-Series 50\" Class 4K HDR Smart TV - V50...   \n4   VIZIO D-Series 32\" Class 720p Full-Array LED H...   \n..                                                ...   \n73  Supersonic SC-2813 13.3-Inch Portable LED TV w...   \n74  Supersonic SC-195 7 TFT Portable Digital LCD T...   \n75        LG 43\" Class 4K UHD Smart LED TV - 43NANO75   \n76  LG 55\" Class 4K UHD Smart Mini LED TV - 55QNED...   \n77  Furrion FDUF43CSA 43\" Aurora Full Shade Smart ...   \n\n                           brand deal_price regular_price  \\\n0                            TCL    $299.99       $469.99   \n1                          VIZIO    $199.99       $249.99   \n2                        Hisense    $309.99       $429.99   \n3                          VIZIO    $299.99       $379.99   \n4                          VIZIO    $159.99       $169.99   \n..                           ...        ...           ...   \n73                    Supersonic    $140.99       $199.99   \n74                    Supersonic     $97.99       $129.99   \n75                LG Electronics    $449.99       $479.99   \n76  LG ElectronicsNew at target¬  $1,299.99     $1,399.99   \n77                       Furrion  $1,299.99     $1,549.99   \n\n                                   product_highlights avg_overall_rating  \\\n0   [Stunning 4K Ultra HD – 4K resolution delivers...                  4   \n1   [1080p High-Definition - Watch TV in crisp, cl...                4.4   \n2   [4K Ultra HD, 1080p’s bigger, better looking b...                  4   \n3   [4K Ultra HD - Over 8 million pixels for breat...                4.5   \n4   [720p HD Resolution - Watch TV in crystal-clea...                4.4   \n..                                                ...                ...   \n73  [13.3 in. widescreen LED TV, Built-in digital ...               None   \n74  [7 in. widescreen LCD TV, Built-in digital TV ...               None   \n75  [Real 4K NanoCell Display, α5 Gen 5 AI Process...                3.8   \n76  [α7 Gen5 AI Processor 4K, Quantum Dot NanoCell...                4.3   \n77  [Compatible with Furrion outdoor soundbars, mo...               None   \n\n   amount_of_ratings  \n0                350  \n1              10674  \n2                 41  \n3               3848  \n4               4409  \n..               ...  \n73              None  \n74              None  \n75                 6  \n76                 4  \n77              None  \n\n[78 rows x 7 columns]",
      "text/html": "<div>\n<style scoped>\n    .dataframe tbody tr th:only-of-type {\n        vertical-align: middle;\n    }\n\n    .dataframe tbody tr th {\n        vertical-align: top;\n    }\n\n    .dataframe thead th {\n        text-align: right;\n    }\n</style>\n<table border=\"1\" class=\"dataframe\">\n  <thead>\n    <tr style=\"text-align: right;\">\n      <th></th>\n      <th>name</th>\n      <th>brand</th>\n      <th>deal_price</th>\n      <th>regular_price</th>\n      <th>product_highlights</th>\n      <th>avg_overall_rating</th>\n      <th>amount_of_ratings</th>\n    </tr>\n  </thead>\n  <tbody>\n    <tr>\n      <th>0</th>\n      <td>TCL 50\" Class 4-Series 4K UHD HDR Smart Roku T...</td>\n      <td>TCL</td>\n      <td>$299.99</td>\n      <td>$469.99</td>\n      <td>[Stunning 4K Ultra HD – 4K resolution delivers...</td>\n      <td>4</td>\n      <td>350</td>\n    </tr>\n    <tr>\n      <th>1</th>\n      <td>VIZIO D-Series 40\" Class 1080p Full-Array LED ...</td>\n      <td>VIZIO</td>\n      <td>$199.99</td>\n      <td>$249.99</td>\n      <td>[1080p High-Definition - Watch TV in crisp, cl...</td>\n      <td>4.4</td>\n      <td>10674</td>\n    </tr>\n    <tr>\n      <th>2</th>\n      <td>Hisense 55\" Class- A6G Series 4K UHD Android S...</td>\n      <td>Hisense</td>\n      <td>$309.99</td>\n      <td>$429.99</td>\n      <td>[4K Ultra HD, 1080p’s bigger, better looking b...</td>\n      <td>4</td>\n      <td>41</td>\n    </tr>\n    <tr>\n      <th>3</th>\n      <td>VIZIO V-Series 50\" Class 4K HDR Smart TV - V50...</td>\n      <td>VIZIO</td>\n      <td>$299.99</td>\n      <td>$379.99</td>\n      <td>[4K Ultra HD - Over 8 million pixels for breat...</td>\n      <td>4.5</td>\n      <td>3848</td>\n    </tr>\n    <tr>\n      <th>4</th>\n      <td>VIZIO D-Series 32\" Class 720p Full-Array LED H...</td>\n      <td>VIZIO</td>\n      <td>$159.99</td>\n      <td>$169.99</td>\n      <td>[720p HD Resolution - Watch TV in crystal-clea...</td>\n      <td>4.4</td>\n      <td>4409</td>\n    </tr>\n    <tr>\n      <th>...</th>\n      <td>...</td>\n      <td>...</td>\n      <td>...</td>\n      <td>...</td>\n      <td>...</td>\n      <td>...</td>\n      <td>...</td>\n    </tr>\n    <tr>\n      <th>73</th>\n      <td>Supersonic SC-2813 13.3-Inch Portable LED TV w...</td>\n      <td>Supersonic</td>\n      <td>$140.99</td>\n      <td>$199.99</td>\n      <td>[13.3 in. widescreen LED TV, Built-in digital ...</td>\n      <td>None</td>\n      <td>None</td>\n    </tr>\n    <tr>\n      <th>74</th>\n      <td>Supersonic SC-195 7 TFT Portable Digital LCD T...</td>\n      <td>Supersonic</td>\n      <td>$97.99</td>\n      <td>$129.99</td>\n      <td>[7 in. widescreen LCD TV, Built-in digital TV ...</td>\n      <td>None</td>\n      <td>None</td>\n    </tr>\n    <tr>\n      <th>75</th>\n      <td>LG 43\" Class 4K UHD Smart LED TV - 43NANO75</td>\n      <td>LG Electronics</td>\n      <td>$449.99</td>\n      <td>$479.99</td>\n      <td>[Real 4K NanoCell Display, α5 Gen 5 AI Process...</td>\n      <td>3.8</td>\n      <td>6</td>\n    </tr>\n    <tr>\n      <th>76</th>\n      <td>LG 55\" Class 4K UHD Smart Mini LED TV - 55QNED...</td>\n      <td>LG ElectronicsNew at target¬</td>\n      <td>$1,299.99</td>\n      <td>$1,399.99</td>\n      <td>[α7 Gen5 AI Processor 4K, Quantum Dot NanoCell...</td>\n      <td>4.3</td>\n      <td>4</td>\n    </tr>\n    <tr>\n      <th>77</th>\n      <td>Furrion FDUF43CSA 43\" Aurora Full Shade Smart ...</td>\n      <td>Furrion</td>\n      <td>$1,299.99</td>\n      <td>$1,549.99</td>\n      <td>[Compatible with Furrion outdoor soundbars, mo...</td>\n      <td>None</td>\n      <td>None</td>\n    </tr>\n  </tbody>\n</table>\n<p>78 rows × 7 columns</p>\n</div>"
     },
     "execution_count": 68,
     "metadata": {},
     "output_type": "execute_result"
    }
   ],
   "source": [
    "df = pd.DataFrame.from_dict(results)\n",
    "df"
   ],
   "metadata": {
    "collapsed": false,
    "pycharm": {
     "name": "#%%\n"
    }
   }
  },
  {
   "cell_type": "code",
   "execution_count": 69,
   "outputs": [],
   "source": [
    "df.to_csv('target_tvdeals_20220703.csv', index=False)"
   ],
   "metadata": {
    "collapsed": false,
    "pycharm": {
     "name": "#%%\n"
    }
   }
  },
  {
   "cell_type": "code",
   "execution_count": null,
   "outputs": [],
   "source": [],
   "metadata": {
    "collapsed": false,
    "pycharm": {
     "name": "#%%\n"
    }
   }
  }
 ],
 "metadata": {
  "kernelspec": {
   "name": "python3",
   "language": "python",
   "display_name": "Python 3"
  },
  "language_info": {
   "codemirror_mode": {
    "name": "ipython",
    "version": 2
   },
   "file_extension": ".py",
   "mimetype": "text/x-python",
   "name": "python",
   "nbconvert_exporter": "python",
   "pygments_lexer": "ipython2",
   "version": "2.7.6"
  }
 },
 "nbformat": 4,
 "nbformat_minor": 0
}